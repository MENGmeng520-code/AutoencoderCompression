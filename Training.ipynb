{
  "nbformat": 4,
  "nbformat_minor": 0,
  "metadata": {
    "colab": {
      "name": "CV_Final.ipynb",
      "provenance": [],
      "collapsed_sections": [
        "AgfbhQgEBwDK",
        "YIVgQcFFWK92",
        "NvbLYPBCNk8i",
        "2HhgpWT-hcGo"
      ],
      "toc_visible": true,
      "machine_shape": "hm"
    },
    "kernelspec": {
      "name": "python3",
      "display_name": "Python 3"
    },
    "language_info": {
      "name": "python"
    }
  },
  "cells": [
    {
      "cell_type": "markdown",
      "metadata": {
        "id": "27YoqKEigTO9"
      },
      "source": [
        "##Requirements"
      ]
    },
    {
      "cell_type": "code",
      "metadata": {
        "id": "T5GUMp3sZ45I"
      },
      "source": [
        "!pip install tensorflow-compression\n"
      ],
      "execution_count": null,
      "outputs": []
    },
    {
      "cell_type": "code",
      "metadata": {
        "id": "pPygakGJid_d"
      },
      "source": [
        "! git clone https://github.com/bckenstler/CLR\n",
        "! ls 'CLR'"
      ],
      "execution_count": null,
      "outputs": []
    },
    {
      "cell_type": "code",
      "metadata": {
        "id": "0ReY2NTxZ74J"
      },
      "source": [
        "import numpy as np\n",
        "import tensorflow as tf\n",
        "from tensorflow_compression import GDN\n",
        "from tensorflow.keras.utils import Sequence\n",
        "from tensorflow.keras.models import Model\n",
        "from tensorflow.keras.layers import Conv2D, Add, Subtract, Lambda, Multiply, Softmax, Input, Reshape, Reshape, Softmax\n",
        "from keras.layers.advanced_activations import LeakyReLU\n",
        "from tensorflow.keras.applications import VGG19\n",
        "from CLR.clr_callback import CyclicLR\n",
        "from skimage.io import imread\n",
        "from skimage.transform import resize\n",
        "from matplotlib import pyplot as plt"
      ],
      "execution_count": null,
      "outputs": []
    },
    {
      "cell_type": "code",
      "metadata": {
        "id": "OwqcKDSHUcSS"
      },
      "source": [
        "!nvidia-smi -L"
      ],
      "execution_count": null,
      "outputs": []
    },
    {
      "cell_type": "markdown",
      "metadata": {
        "id": "J3Hz1-P9gecG"
      },
      "source": [
        "##Modules"
      ]
    },
    {
      "cell_type": "code",
      "metadata": {
        "id": "U2hV_KDngh6v",
        "colab": {
          "base_uri": "https://localhost:8080/"
        },
        "outputId": "897ade9b-7565-47f1-bb63-2f03d7130a89"
      },
      "source": [
        "class DataGenerator(Sequence):\n",
        "    \"\"\"Generates data for Keras\"\"\"\n",
        "\n",
        "    def __init__(self, list_IDs, batch_size=32, dim=(256, 256), n_channels=3,\n",
        "                 n_classes=0, shuffle=True):\n",
        "        \"\"\"Initialization\"\"\"\n",
        "        self.dim = dim\n",
        "        self.batch_size = batch_size\n",
        "\n",
        "        self.list_IDs = list_IDs\n",
        "        self.n_channels = n_channels\n",
        "        self.n_classes = n_classes\n",
        "        self.shuffle = shuffle\n",
        "        self.on_epoch_end()\n",
        "\n",
        "    def __len__(self):\n",
        "        \"\"\"Denotes the number of batches per epoch\"\"\"\n",
        "        return int(np.floor(len(self.list_IDs) / self.batch_size))\n",
        "\n",
        "    def __getitem__(self, index):\n",
        "        \"\"\"Generate one batch of data\"\"\"\n",
        "        # Generate indexes of the batch\n",
        "        indexes = self.indexes[index * self.batch_size:(index + 1) * self.batch_size]\n",
        "\n",
        "        # Find list of IDs\n",
        "        list_IDs_temp = [self.list_IDs[k] for k in indexes]\n",
        "\n",
        "        # Generate data\n",
        "        X, y = self.__data_generation(list_IDs_temp)\n",
        "\n",
        "        return X, y\n",
        "\n",
        "    def on_epoch_end(self):\n",
        "        \"\"\"Updates indexes after each epoch\"\"\"\n",
        "        self.indexes = np.arange(len(self.list_IDs))\n",
        "        if self.shuffle:\n",
        "            np.random.shuffle(self.indexes)\n",
        "\n",
        "    def __data_generation(self, list_IDs_temp):\n",
        "        \"\"\"Generates data containing batch_size samples\"\"\"  # X : (n_samples, *dim, n_channels)\n",
        "        # Initialization\n",
        "        X = np.empty((self.batch_size, *self.dim, self.n_channels))\n",
        "\n",
        "        # Generate data\n",
        "        for i, ID in enumerate(list_IDs_temp):\n",
        "            # Store sample\n",
        "\n",
        "            X[i,] = np.asarray(resize(imread(ID), (self.dim[0], self.dim[1], self.n_channels)))\n",
        "            y = X\n",
        "\n",
        "        return X, y\n",
        "\n",
        "\n",
        "def convolutional_block(X, out_ch, downsample, actv2):\n",
        "    \"\"\"\n",
        "    Implementation of the Residual convolutional block\n",
        "    Skip Connections:\n",
        "    They mitigate the problem of vanishing gradient by allowing the alternate shortcut path for gradient to flow through\n",
        "    They allow the model to learn an identity function which ensures that the higher layer will perform at least as good as the lower layer, and not worse\n",
        "\n",
        "\n",
        "    Arguments:\n",
        "    X -- input tensor of shape (m, n_H_prev, n_W_prev, n_C_prev)\n",
        "    out_ch -- Number of filters\n",
        "    Returns:\n",
        "    X -- output of the convolutional block, tensor of shape (n_H, n_W, n_C)\n",
        "\n",
        "    https://towardsdatascience.com/understanding-and-coding-a-resnet-in-keras-446d7ff84d33#43fa\n",
        "    \"\"\"\n",
        "\n",
        "    stride = 2 if downsample else 1\n",
        "\n",
        "    # Save the input value\n",
        "    X_shortcut = X\n",
        "\n",
        "    ##### MAIN PATH #####\n",
        "    # First component of main path\n",
        "    X = Conv2D(out_ch, kernel_size=3, strides=stride, padding='same',\n",
        "               activation=LeakyReLU(alpha=0.2))(X)\n",
        "\n",
        "    # Second component of main path\n",
        "    if actv2 == 2:\n",
        "        X = Conv2D(out_ch, kernel_size=3, padding='same',\n",
        "                   activation=GDN(inverse=True))(X)\n",
        "    if actv2 == 1:\n",
        "        X = Conv2D(out_ch, kernel_size=3, padding='same',\n",
        "                   activation=GDN(inverse=False))(X)\n",
        "    else:\n",
        "        X = Conv2D(out_ch, kernel_size=3, padding='same')(X)\n",
        "\n",
        "    ##### SHORTCUT PATH #### (≈2 lines) if downsample handles different channels, replace by identity if not needed\n",
        "    # if downsample:\n",
        "    X_shortcut = Conv2D(out_ch, kernel_size=(1, 1), strides=stride, padding='same')(X_shortcut)\n",
        "\n",
        "    # Final step: Add shortcut value to main path\n",
        "    X = Add()([X, X_shortcut])\n",
        "\n",
        "    return X\n",
        "\n",
        "\n",
        "def NLAM(X, out_ch, downsample):\n",
        "    \"\"\"\n",
        "    Non-Local Attention Module\n",
        "    Attention modules are used to make CNN learn and focus more on the important information,\n",
        "    rather than learning non-useful background information. In the case of object detection,\n",
        "    useful information is the objects or target class crop that we want to classify and localize in an image.\n",
        "    The attention module consists of a simple 2D-convolutional layer, MLP(in the case of channel attention),\n",
        "    and sigmoid function at the end to generate a mask of the input feature map.\n",
        "\n",
        "    \"\"\"\n",
        "\n",
        "    # Internal Parameters\n",
        "    actv2 = 1\n",
        "\n",
        "    stride = 2 if downsample else 1\n",
        "\n",
        "    # Save the input value\n",
        "    X_shortcut = X\n",
        "    X_main = X\n",
        "\n",
        "    # Mask Block\n",
        "    X = convolutional_block(X, out_ch, downsample, actv2)\n",
        "    X = convolutional_block(X, out_ch, downsample, actv2)\n",
        "    X = convolutional_block(X, out_ch, downsample, actv2)\n",
        "    # Conv Layer\n",
        "    X = Conv2D(out_ch, kernel_size=1, strides=1, padding='same', activation='sigmoid')(X)\n",
        "\n",
        "    # Main Block\n",
        "    X_main = convolutional_block(X_main, out_ch, downsample, actv2)\n",
        "    X_main = convolutional_block(X_main, out_ch, downsample, actv2)\n",
        "    X_main = convolutional_block(X_main, out_ch, downsample, actv2)\n",
        "\n",
        "    # Final\n",
        "    # if downsample:\n",
        "    X_shortcut = Conv2D(out_ch, kernel_size=(1, 1), strides=stride ** 3, padding='same')(X_shortcut)\n",
        "    Y = Multiply()([X, X_main])\n",
        "    Y = Add()([Y, X_shortcut])\n",
        "\n",
        "    return Y\n",
        "\n",
        "\n",
        "def UpSample(X, out_ch):\n",
        "    # Save the input value\n",
        "    X_shortcut = X\n",
        "\n",
        "    # Path 1\n",
        "    X = Conv2D(4 * out_ch, kernel_size=3, padding='same', activation=LeakyReLU(alpha=0.2))(X)\n",
        "    X = Lambda(lambda x: tf.nn.depth_to_space(x, 2))(X)\n",
        "    X = Conv2D(out_ch, kernel_size=3, padding='same', activation=GDN(inverse=True))(X)\n",
        "\n",
        "    # Path 2\n",
        "    X_shortcut = Conv2D(4 * out_ch, kernel_size=1, padding='same')(X_shortcut)\n",
        "\n",
        "    X_shortcut = Lambda(lambda x: tf.nn.depth_to_space(x, 2))(X_shortcut)\n",
        "\n",
        "    # Final step: Add shortcut value to main path\n",
        "    Y = Add()([X, X_shortcut])\n",
        "\n",
        "    return Y\n",
        "\n",
        "\n",
        "def Quantize(X):\n",
        "    # Mode 0 = Training, 1 = Inference\n",
        "\n",
        "    X_shape = tf.shape(X, out_type=tf.dtypes.int32)\n",
        "\n",
        "    return Lambda(lambda x: tf.math.round(x), name='Inference_Quantizer')(X), Add(name='Training_Quantizer')(\n",
        "        [X, tf.random.uniform(X_shape, minval=-0.5, maxval=0.5, dtype=tf.dtypes.float32)])\n",
        "\n",
        "\n",
        "\n",
        "def SSIM_MAE_VGG_Loss(y_true, y_pred):\n",
        "    alpha = 0.4\n",
        "\n",
        "    mae = tf.reduce_mean(tf.math.abs(y_true - y_pred))\n",
        "    ssim = 1 - tf.reduce_mean(tf.image.ssim_multiscale(y_pred, y_true, 1.0))\n",
        "    vgg = vgg_loss(y_true, y_pred)\n",
        "\n",
        "    return alpha * ssim + (1 - alpha) * mae + vgg \n",
        "\n",
        "\n",
        "def PSNR(y_true, y_pred):\n",
        "    return tf.reduce_mean(tf.image.psnr(y_true, y_pred, 1.0), name='PSNR')\n",
        "\n",
        "\n",
        "vgg = VGG19(weights=\"imagenet\", include_top=False, input_shape=(None, None, 3))\n",
        "vgg.outputs = [vgg.get_layer('block5_conv4').output]\n",
        "vgg_model = tf.keras.models.Model(inputs=vgg.inputs, outputs=vgg.outputs)\n",
        "vgg_model.trainable = False\n",
        "\n",
        "\n",
        "def vgg_loss(y_true, y_pred):\n",
        "    return tf.math.reduce_mean(tf.math.abs((vgg_model(y_true)[0] - vgg_model(y_pred)[0])), axis=-1)\n",
        "\n",
        "\n",
        "class MaskConv2D(tf.keras.layers.Layer):\n",
        "    def __init__(self, input_shape, channels=384, k_size=7):\n",
        "        super().__init__()\n",
        "        self.conv = Conv2D(filters=channels, kernel_size=k_size, padding='same', activation=LeakyReLU(alpha=0.2))\n",
        "        k = k_size\n",
        "        self.conv.build(input_shape)\n",
        "        self.channels = channels\n",
        "        self.k_size = k_size\n",
        "        mask = np.ones((k, k), dtype=np.float32)\n",
        "        mask[k // 2, k // 2:] = 0\n",
        "        mask[k // 2 + 1:, :] = 0\n",
        "        mask = np.expand_dims(mask, -1)\n",
        "        mask = np.expand_dims(mask, -1)\n",
        "\n",
        "        self.conv.weights[0].assign(self.conv.weights[0] * mask)\n",
        "\n",
        "    def get_config(self):\n",
        "        config = {'input_shape': self.input_shape,\n",
        "                  'channels': self.channels,\n",
        "                  'k_size': self.k_size}\n",
        "        return config\n",
        "\n",
        "    def call(self, inputs):\n",
        "        return self.conv(inputs)\n",
        "\n",
        "\n",
        "def Parameter_Estimate(X, gmm_K):\n",
        "\n",
        "    Y = MaskConv2D(input_shape=X.shape, channels=384, k_size=5)(X)\n",
        "    Y = Conv2D(640, kernel_size=1, padding='same', activation=LeakyReLU(alpha=0.2))(Y)\n",
        "    Y = Conv2D(640, kernel_size=1, padding='same', activation=LeakyReLU(alpha=0.2))(Y)\n",
        "    Y = Conv2D(3 * gmm_K * X.shape[-1], kernel_size=1, padding='same', name='GMM')(Y)\n",
        "\n",
        "    return Y\n",
        "\n",
        "\n",
        "def bitcost(P, Y_hat):\n",
        "\n",
        "    gmm_K = 3\n",
        "    batch, dim1, dim2, dim3 =tf.shape(Y_hat)\n",
        "\n",
        "    P = tf.reshape(P,(-1,dim1, dim2, gmm_K, 3 * dim3))\n",
        "\n",
        "\n",
        "    mu = tf.slice(P,[0,0,0,0,0],[batch,dim1,dim2,gmm_K,dim3])\n",
        "    std_dev = tf.slice(P,[0,0,0,0,dim3],[batch,dim1,dim2,gmm_K,dim3])\n",
        "    weights = tf.slice(P,[0,0,0,0,2 * dim3],[batch,dim1,dim2,gmm_K,dim3])\n",
        "    weights = Softmax(axis=3)(weights)\n",
        "    total_diff = 1e-6\n",
        "\n",
        "    for k in range(gmm_K):\n",
        "        #slicing\n",
        "        weight_k = weights[:, :, :, k, :]\n",
        "        mu_k = mu[:, :, :, k, :]\n",
        "\n",
        "        std_dev_k = Lambda(lambda x:tf.math.abs(x))(std_dev[:, :, :, k, :])\n",
        "\n",
        "        std_dev_k = std_dev_k+1e-6\n",
        "        std_dev_rec = Lambda(lambda x:tf.math.reciprocal(x))(std_dev_k)\n",
        "        #constants\n",
        "\n",
        "        denom = Lambda(lambda x:tf.math.divide(x,tf.math.sqrt(2.0)))(std_dev_rec)\n",
        "\n",
        "        Y_hat_ = Subtract()([Y_hat,mu_k])\n",
        "        #upper limit\n",
        "        upper_y = Y_hat_+0.5\n",
        "        upper_y = Multiply()([upper_y,denom])\n",
        "        erf = Lambda(lambda x:tf.math.erf(x))(upper_y)\n",
        "        upper_limit = 1+erf\n",
        "        upper_limit = upper_limit*0.5\n",
        "\n",
        "\n",
        "        #upper limit\n",
        "        lower_y = Y_hat_-0.5\n",
        "        lower_y = Multiply()([lower_y,denom])\n",
        "        erf = Lambda(lambda x:tf.math.erf(x))(lower_y)\n",
        "        lower_limit = 1+erf\n",
        "        lower_limit = lower_limit*0.5\n",
        "\n",
        "\n",
        "        diff = Subtract()([upper_limit,lower_limit])\n",
        "        diff = Multiply()([diff,weight_k])\n",
        "        total_diff = total_diff+diff\n",
        "\n",
        "        \n",
        "\n",
        "    return -(tf.math.log(total_diff)) / (tf.math.log(2.0) * 256 * tf.cast(dim1 * dim2,dtype=tf.float32))\n",
        "\n",
        "\n",
        "def Bit_Loss(y_true, y_pred):\n",
        "    sum = tf.reduce_sum(y_pred)\n",
        "    target = 0\n",
        "    return tf.math.abs(sum-target)"
      ],
      "execution_count": null,
      "outputs": [
        {
          "output_type": "stream",
          "text": [
            "Downloading data from https://storage.googleapis.com/tensorflow/keras-applications/vgg19/vgg19_weights_tf_dim_ordering_tf_kernels_notop.h5\n",
            "80142336/80134624 [==============================] - 1s 0us/step\n"
          ],
          "name": "stdout"
        }
      ]
    },
    {
      "cell_type": "markdown",
      "metadata": {
        "id": "wuqQ7OX4gZfH"
      },
      "source": [
        "##Loading the Dataset"
      ]
    },
    {
      "cell_type": "code",
      "metadata": {
        "colab": {
          "base_uri": "https://localhost:8080/"
        },
        "id": "NOXwpQbKtL_t",
        "outputId": "776f562d-55b1-466f-98f0-a56557485413"
      },
      "source": [
        "from google.colab import drive\n",
        "drive.mount('/content/model')"
      ],
      "execution_count": null,
      "outputs": [
        {
          "output_type": "stream",
          "text": [
            "Mounted at /content/model\n"
          ],
          "name": "stdout"
        }
      ]
    },
    {
      "cell_type": "code",
      "metadata": {
        "id": "EV2R5HsW-RbW"
      },
      "source": [
        "!wget http://images.cocodataset.org/zips/train2017.zip"
      ],
      "execution_count": null,
      "outputs": []
    },
    {
      "cell_type": "code",
      "metadata": {
        "id": "jvh3BF3q_3Ov"
      },
      "source": [
        "!wget http://images.cocodataset.org/zips/val2017.zip"
      ],
      "execution_count": null,
      "outputs": []
    },
    {
      "cell_type": "code",
      "metadata": {
        "id": "zRmrKjdpA9qU"
      },
      "source": [
        "!mkdir /content/coco_dataset\n",
        "!unzip -q /content/train2017.zip -d /content/coco_dataset \n",
        "!unzip -q /content/val2017.zip -d /content/coco_dataset "
      ],
      "execution_count": null,
      "outputs": []
    },
    {
      "cell_type": "code",
      "metadata": {
        "colab": {
          "base_uri": "https://localhost:8080/"
        },
        "id": "z8_VavRBKCen",
        "outputId": "5e11ebb7-6f88-4d98-d770-dec51ef45dae"
      },
      "source": [
        "import os\n",
        "import random \n",
        "from glob import glob\n",
        "from pathlib import Path\n",
        "\n",
        "DATASET_DIR = os.path.join(\"/content/coco_dataset\", \"\")\n",
        "TRAIN_DIR = os.path.join(DATASET_DIR, \"train2017\")\n",
        "VAL_DIR = os.path.join(DATASET_DIR, \"val2017\")\n",
        "#TEST_DIR = os.path.join(DATASET_DIR, \"test\")\n",
        "\n",
        "training_data = [y for x in os.walk(TRAIN_DIR) for y in glob(os.path.join(x[0], '*jpg'))]\n",
        "validation_data = [y for x in os.walk(VAL_DIR) for y in glob(os.path.join(x[0], '*jpg'))]\n",
        "#test_data = [y for x in os.walk(TEST_DIR) for y in glob(os.path.join(x[0], '*JPEG'))]\n",
        "print(len(validation_data))\n",
        "training_data[:10]"
      ],
      "execution_count": null,
      "outputs": [
        {
          "output_type": "stream",
          "text": [
            "5000\n"
          ],
          "name": "stdout"
        },
        {
          "output_type": "execute_result",
          "data": {
            "text/plain": [
              "['/content/coco_dataset/train2017/000000015693.jpg',\n",
              " '/content/coco_dataset/train2017/000000178218.jpg',\n",
              " '/content/coco_dataset/train2017/000000397893.jpg',\n",
              " '/content/coco_dataset/train2017/000000291941.jpg',\n",
              " '/content/coco_dataset/train2017/000000388311.jpg',\n",
              " '/content/coco_dataset/train2017/000000501026.jpg',\n",
              " '/content/coco_dataset/train2017/000000207010.jpg',\n",
              " '/content/coco_dataset/train2017/000000146988.jpg',\n",
              " '/content/coco_dataset/train2017/000000379517.jpg',\n",
              " '/content/coco_dataset/train2017/000000243557.jpg']"
            ]
          },
          "metadata": {
            "tags": []
          },
          "execution_count": 10
        }
      ]
    },
    {
      "cell_type": "code",
      "metadata": {
        "id": "_fFE_SR3yk7g"
      },
      "source": [
        "BATCH_SIZE = 2\n",
        "HEIGHT = 512\n",
        "WIDTH = 512\n",
        "params = {'dim': (HEIGHT, WIDTH),\n",
        "          'batch_size': BATCH_SIZE,\n",
        "          'shuffle': False}\n",
        "training_generator = DataGenerator(training_data, **params)\n",
        "validation_generator = DataGenerator(validation_data, **params)\n",
        "#test_generator = DataGenerator(test_data, **params)"
      ],
      "execution_count": null,
      "outputs": []
    },
    {
      "cell_type": "markdown",
      "metadata": {
        "id": "AgfbhQgEBwDK"
      },
      "source": [
        "##Encoder"
      ]
    },
    {
      "cell_type": "code",
      "metadata": {
        "id": "NQ-I5GI3B0Aj"
      },
      "source": [
        "ch = 192\n",
        "out_ch = 32\n",
        "img_input = Input(shape=(None, None, 3),name='Image')\n",
        "\n",
        "ResBlock_1 = convolutional_block(img_input, ch, 1, 1)\n",
        "ResBlock_2 = convolutional_block(ResBlock_1, ch, 0, 1)\n",
        "ResBlock_3 = convolutional_block(ResBlock_2, ch, 1, 1)\n",
        "NLAM_1 = NLAM(ResBlock_3, ch, 0)\n",
        "ResBlock_4 = convolutional_block(NLAM_1, ch, 0, 1)\n",
        "ResBlock_5 = convolutional_block(ResBlock_4, ch, 1, 1)\n",
        "ResBlock_6 = convolutional_block(ResBlock_5, ch, 0, 1)\n",
        "NLAM_2 = NLAM(ResBlock_6, ch, 0)\n",
        "final_conv2d = Conv2D(out_ch, kernel_size=3, strides=2, padding='same',\n",
        "                      activation=LeakyReLU(alpha=0.2))(NLAM_2)\n",
        "\n",
        "y_hard , y_soft = Quantize(final_conv2d)\n",
        "    \n",
        "Encoder = Model(inputs=img_input,outputs=[y_hard , y_soft],name='Encoder')\n"
      ],
      "execution_count": null,
      "outputs": []
    },
    {
      "cell_type": "markdown",
      "metadata": {
        "id": "YIVgQcFFWK92"
      },
      "source": [
        "##َEntropy Model"
      ]
    },
    {
      "cell_type": "code",
      "metadata": {
        "id": "7fwZX2VUWOQH"
      },
      "source": [
        "latent_code = Input(shape=(None, None, out_ch),name='Latent_Code')\n",
        "params = Parameter_Estimate(latent_code,3)\n",
        "bits_per_pixel = bitcost(params,latent_code)\n",
        "Entropy_Model=Model(inputs=latent_code,outputs=[bits_per_pixel,params],name='Entropy_Model')"
      ],
      "execution_count": null,
      "outputs": []
    },
    {
      "cell_type": "markdown",
      "metadata": {
        "id": "NvbLYPBCNk8i"
      },
      "source": [
        "##Decoder"
      ]
    },
    {
      "cell_type": "code",
      "metadata": {
        "id": "uhYguGAiNotu"
      },
      "source": [
        "decoder_input = Input(shape=(None, None, out_ch),name='Decoder_Input')\n",
        "conv2d_1 = Conv2D(ch, kernel_size=3, padding='same',\n",
        "                      activation=LeakyReLU(alpha=0.2))(decoder_input)\n",
        "NLAM_1 = NLAM(conv2d_1, ch, 0)\n",
        "ResBlock_1 = convolutional_block(NLAM_1, ch, 0, 2)\n",
        "UpResBlock_1 = UpSample(ResBlock_1, ch)\n",
        "ResBlock_2 = convolutional_block(UpResBlock_1, ch, 0, 2)\n",
        "UpResBlock_2 = UpSample(ResBlock_2, ch)\n",
        "NLAM_2 = NLAM(UpResBlock_2, ch, 0)\n",
        "ResBlock_3 = convolutional_block(NLAM_2, ch, 0, 2)\n",
        "UpResBlock_3 = UpSample(ResBlock_3, ch)\n",
        "ResBlock_4 = convolutional_block(UpResBlock_3, ch, 0, 2)\n",
        "conv2d_2 = Conv2D(12, kernel_size=3, padding='same')(ResBlock_4)\n",
        "\n",
        "UpResBlock_4 = UpSample(conv2d_2, 3)\n",
        "\n",
        "Decoder = Model(inputs=decoder_input, outputs = UpResBlock_4,name='Decoder')"
      ],
      "execution_count": null,
      "outputs": []
    },
    {
      "cell_type": "markdown",
      "metadata": {
        "id": "2HhgpWT-hcGo"
      },
      "source": [
        "##End to End Autoencoder"
      ]
    },
    {
      "cell_type": "code",
      "metadata": {
        "id": "gMWzjIn5hfqI"
      },
      "source": [
        "autoencoder_input = Input(shape=(None, None, 3),name='Image')\n",
        "encoder_output = Encoder(autoencoder_input)[1]\n",
        "bpp = Entropy_Model(encoder_output)[0]\n",
        "\n",
        "decoder_output = Decoder(encoder_output)\n",
        "    \n",
        "autoencoder = Model(inputs=autoencoder_input,\n",
        "                    outputs=[bpp,decoder_output],\n",
        "                    name='End_to_End')\n",
        "\n",
        "\n",
        "autoencoder.build((None, None, 3))\n",
        "\n",
        "opt = tf.keras.optimizers.Adam(learning_rate=1e-4)\n",
        "\n",
        "autoencoder.compile(optimizer=opt,\n",
        "                    loss=[Bit_Loss,SSIM_MAE_VGG_Loss],\n",
        "                    loss_weights=[0.1,0.9],\n",
        "                    metrics={'Decoder':PSNR})\n"
      ],
      "execution_count": null,
      "outputs": []
    },
    {
      "cell_type": "code",
      "metadata": {
        "colab": {
          "base_uri": "https://localhost:8080/",
          "height": 272
        },
        "id": "OUaE2VbrjDyR",
        "outputId": "76d14f52-4b6b-4289-a636-5cd11be82425"
      },
      "source": [
        " tf.keras.utils.plot_model(autoencoder)"
      ],
      "execution_count": null,
      "outputs": [
        {
          "output_type": "execute_result",
          "data": {
            "image/png": "[encoded data removed]",
            "text/plain": [
              "<IPython.core.display.Image object>"
            ]
          },
          "metadata": {
            "tags": []
          },
          "execution_count": 10
        }
      ]
    },
    {
      "cell_type": "markdown",
      "metadata": {
        "id": "aXxt4mothzhO"
      },
      "source": [
        "#Callbacks and Training"
      ]
    },
    {
      "cell_type": "code",
      "metadata": {
        "id": "Lsnve6dm4xW6"
      },
      "source": [
        "#autoencoder.load_weights('/content/model/MyDrive/cv_models/SSIM_MAE_VGG_COCO_model.h5')\n",
        "clr = CyclicLR(base_lr=1e-5, max_lr=1e-4, step_size=781, gamma=0.99994)\n",
        "chk_point = tf.keras.callbacks.ModelCheckpoint(filepath='/content/model/MyDrive/cv_models/SSIM_MAE_VGG_ADV_COCO_model.{epoch:02d}.h5')\n",
        "ton = tf.keras.callbacks.TerminateOnNaN()\n",
        "\n",
        "NUM_EPOCHS = 10\n",
        "\n",
        "history = autoencoder.fit(training_generator,\n",
        "                      callbacks = [clr,ton,chk_point],\n",
        "                      validation_data=validation_generator,\n",
        "                      epochs=NUM_EPOCHS)\n",
        "autoencoder.save('/content/model/MyDrive/cv_models/SSIM_MAE_VGG_COCO_ADV_model.h5',save_format=\"h5\")"
      ],
      "execution_count": null,
      "outputs": []
    }
  ]
}